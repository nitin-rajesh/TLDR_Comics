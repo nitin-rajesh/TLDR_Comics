{
 "cells": [
  {
   "cell_type": "markdown",
   "id": "df412661",
   "metadata": {},
   "source": [
    "# GRU decoder for image captioning"
   ]
  },
  {
   "cell_type": "code",
   "execution_count": null,
   "id": "ddcda3fc",
   "metadata": {},
   "outputs": [],
   "source": [
    "import torch.optim as optim\n",
    "from img_caption import *\n",
    "from torch.nn.utils.rnn import pad_sequence"
   ]
  },
  {
   "cell_type": "code",
   "execution_count": null,
   "id": "e899f307",
   "metadata": {},
   "outputs": [],
   "source": [
    "transform = transforms.Compose([\n",
    "    transforms.Resize((224, 224)),\n",
    "    transforms.ToTensor(),\n",
    "    transforms.Normalize((0.5,), (0.5,))\n",
    "])\n",
    "\n",
    "vocab = Vocabulary()\n",
    "dataset = FlickrDataset(\n",
    "    root_folder=\"Flicker8k_Dataset\",\n",
    "    captions_file=\"Flickr8k.token.txt\",\n",
    "    vocab=vocab,\n",
    "    transform=transform\n",
    ")\n",
    "pad_idx = vocab.stoi[\"<PAD>\"]\n",
    "data_loader = DataLoader(dataset, batch_size=32, shuffle=True, collate_fn=lambda batch: collate_fn(batch, pad_idx))\n",
    "\n",
    "encoder = EncoderCNN(embed_size=256).cuda()\n",
    "decoder = DecoderGRU(embed_size=256, hidden_size=512, vocab_size=len(vocab)).cuda()\n",
    "\n",
    "criterion = nn.CrossEntropyLoss(ignore_index=pad_idx)\n",
    "optimizer = optim.Adam(list(decoder.parameters()) + list(encoder.fc.parameters()), lr=1e-3)\n",
    "\n",
    "for epoch in range(10):\n",
    "    for idx, (imgs, captions) in enumerate(data_loader):\n",
    "        imgs, captions = imgs.cuda(), captions.cuda()\n",
    "        features = encoder(imgs)\n",
    "        outputs = decoder(features, captions[:, :-1])\n",
    "        loss = criterion(outputs.reshape(-1, outputs.shape[2]), captions[:, 1:].reshape(-1))\n",
    "        optimizer.zero_grad()\n",
    "        loss.backward()\n",
    "        optimizer.step()\n",
    "\n",
    "    print(f\"Epoch [{epoch+1}/10], Loss: {loss.item():.4f}\")\n",
    "\n",
    "torch.save(decoder.state_dict(), \"decoder_gru.pth\")\n"
   ]
  },
  {
   "cell_type": "code",
   "execution_count": null,
   "id": "521d4eb3",
   "metadata": {},
   "outputs": [],
   "source": [
    "def collate_fn(batch, pad_idx):\n",
    "    imgs, caps = zip(*batch)\n",
    "    imgs = torch.stack(imgs, 0)\n",
    "    caps = pad_sequence(caps, batch_first=True, padding_value=pad_idx)\n",
    "    return imgs, caps\n"
   ]
  }
 ],
 "metadata": {
  "language_info": {
   "name": "python"
  }
 },
 "nbformat": 4,
 "nbformat_minor": 5
}
